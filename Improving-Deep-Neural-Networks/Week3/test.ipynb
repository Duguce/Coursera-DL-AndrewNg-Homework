{
 "cells": [
  {
   "cell_type": "code",
   "execution_count": 1,
   "metadata": {},
   "outputs": [],
   "source": [
    "import numpy as np\n",
    "import matplotlib.pyplot as plt\n",
    "import tensorflow as tf\n",
    "import tf_utils"
   ]
  },
  {
   "cell_type": "code",
   "execution_count": 29,
   "metadata": {},
   "outputs": [
    {
     "name": "stdout",
     "output_type": "stream",
     "text": [
      "9\n"
     ]
    }
   ],
   "source": [
    "tf.compat.v1.disable_eager_execution()\n",
    "y_hat = tf.constant(36, name=\"y_hat\")\n",
    "y = tf.constant(39, name=\"y\")\n",
    "\n",
    "loss = tf.Variable((y - y_hat)**2, name=\"loss\")\n",
    "\n",
    "init = tf.compat.v1.global_variables_initializer()\n",
    "\n",
    "with tf.compat.v1.Session() as session:\n",
    "    session.run(init)\n",
    "    print(session.run(loss))"
   ]
  },
  {
   "cell_type": "code",
   "execution_count": 3,
   "metadata": {},
   "outputs": [
    {
     "name": "stdout",
     "output_type": "stream",
     "text": [
      "Tensor(\"Mul:0\", shape=(), dtype=int32)\n"
     ]
    }
   ],
   "source": [
    "a = tf.constant(2)\n",
    "b = tf.constant(10)\n",
    "c = tf.multiply(a, b)\n",
    "print(c)"
   ]
  },
  {
   "cell_type": "code",
   "execution_count": 4,
   "metadata": {},
   "outputs": [
    {
     "name": "stdout",
     "output_type": "stream",
     "text": [
      "20\n"
     ]
    }
   ],
   "source": [
    "session = tf.compat.v1.Session ()\n",
    "print(session.run(c))"
   ]
  },
  {
   "cell_type": "code",
   "execution_count": 5,
   "metadata": {},
   "outputs": [
    {
     "name": "stdout",
     "output_type": "stream",
     "text": [
      "6\n"
     ]
    }
   ],
   "source": [
    "x = tf.compat.v1.placeholder(tf.int64, name=\"x\")\n",
    "print(session.run(2*x, feed_dict={x: 3}))\n",
    "session.close()"
   ]
  },
  {
   "cell_type": "code",
   "execution_count": 6,
   "metadata": {},
   "outputs": [],
   "source": [
    "def linear_function():\n",
    "    np.random.seed(1)\n",
    "\n",
    "    X = tf.constant(np.random.randn(3, 1), name=\"X\")\n",
    "    W = tf.constant(np.random.randn(4, 3), name=\"W\")\n",
    "    b = tf.constant(np.random.randn(4, 1), name=\"b\")\n",
    "    Y = tf.add(tf.matmul(W, X), b)\n",
    "    \n",
    "    tf.compat.v1.disable_eager_execution()\n",
    "    session = tf.compat.v1.Session()\n",
    "    result = session.run(Y)\n",
    "\n",
    "    session.close()\n",
    "\n",
    "    return result"
   ]
  },
  {
   "cell_type": "code",
   "execution_count": 7,
   "metadata": {},
   "outputs": [
    {
     "name": "stdout",
     "output_type": "stream",
     "text": [
      "result = [[-2.15657382]\n",
      " [ 2.95891446]\n",
      " [-1.08926781]\n",
      " [-0.84538042]]\n"
     ]
    }
   ],
   "source": [
    "print(f\"result = {str(linear_function())}\")"
   ]
  },
  {
   "cell_type": "code",
   "execution_count": 8,
   "metadata": {},
   "outputs": [],
   "source": [
    "def sigmoid(z):\n",
    "    x = tf.compat.v1.placeholder(tf.float32, name=\"x\")\n",
    "\n",
    "    sigmoid = tf.sigmoid(x)\n",
    "\n",
    "    tf.compat.v1.disable_eager_execution()\n",
    "    session = tf.compat.v1.Session()\n",
    "    result = session.run(sigmoid, feed_dict={x:z})\n",
    "\n",
    "    return result    "
   ]
  },
  {
   "cell_type": "code",
   "execution_count": 9,
   "metadata": {},
   "outputs": [
    {
     "name": "stdout",
     "output_type": "stream",
     "text": [
      "sigmoid(0) = 0.5\n",
      "sigmoid(12) = 0.9999938\n"
     ]
    }
   ],
   "source": [
    "print(f\"sigmoid(0) = {str(sigmoid(0))}\")\n",
    "print(f\"sigmoid(12) = {str(sigmoid(12))}\")"
   ]
  },
  {
   "cell_type": "code",
   "execution_count": 10,
   "metadata": {},
   "outputs": [],
   "source": [
    "def cost(logits, labels):\n",
    "    z = tf.compat.v1.placeholder(tf.float32, name=\"logits\")\n",
    "    y = tf.compat.v1.placeholder(tf.float32, name=\"labels\")\n",
    "\n",
    "    cost = tf.nn.sigmoid_cross_entropy_with_logits(logits=z, labels=y)\n",
    "\n",
    "    tf.compat.v1.disable_eager_execution()\n",
    "    session = tf.compat.v1.Session()\n",
    "\n",
    "    cost = session.run(cost, feed_dict={z:logits, y:labels})\n",
    "\n",
    "    session.close()\n",
    "\n",
    "    return cost"
   ]
  },
  {
   "cell_type": "code",
   "execution_count": 11,
   "metadata": {},
   "outputs": [
    {
     "name": "stdout",
     "output_type": "stream",
     "text": [
      "cost = [1.0053872  1.0366408  0.41385433 0.39956617]\n"
     ]
    }
   ],
   "source": [
    "logits = sigmoid(np.array([0.2, 0.4, 0.7, 0.9]))\n",
    "cost = cost(logits, np.array([0, 0, 1, 1]))\n",
    "print(f\"cost = {str(cost)}\")"
   ]
  },
  {
   "cell_type": "code",
   "execution_count": 12,
   "metadata": {},
   "outputs": [],
   "source": [
    "def one_hot_matrix(labels, C):\n",
    "    C = tf.constant(C, name=\"C\")\n",
    "\n",
    "    one_hot_matrix = tf.one_hot(labels, C, axis=0)\n",
    "\n",
    "    tf.compat.v1.disable_eager_execution()\n",
    "    session = tf.compat.v1.Session()\n",
    "\n",
    "    one_hot = session.run(one_hot_matrix)\n",
    "\n",
    "    session.close()\n",
    "\n",
    "    return one_hot"
   ]
  },
  {
   "cell_type": "code",
   "execution_count": 13,
   "metadata": {},
   "outputs": [
    {
     "name": "stdout",
     "output_type": "stream",
     "text": [
      "one_hot = [[0. 0. 0. 1. 0. 0.]\n",
      " [1. 0. 0. 0. 0. 1.]\n",
      " [0. 1. 0. 0. 1. 0.]\n",
      " [0. 0. 1. 0. 0. 0.]]\n"
     ]
    }
   ],
   "source": [
    "labels = np.array([1, 2, 3, 0, 2, 1])\n",
    "one_hot = one_hot_matrix(labels, C=4)\n",
    "print(f\"one_hot = {str(one_hot)}\")"
   ]
  },
  {
   "cell_type": "code",
   "execution_count": 14,
   "metadata": {},
   "outputs": [],
   "source": [
    "def ones(shape):\n",
    "    ones = tf.ones(shape)\n",
    "\n",
    "    tf.compat.v1.disable_eager_execution()\n",
    "    session = tf.compat.v1.Session()\n",
    "\n",
    "    ones = session.run(ones)\n",
    "\n",
    "    session.close()\n",
    "\n",
    "    return ones"
   ]
  },
  {
   "cell_type": "code",
   "execution_count": 15,
   "metadata": {},
   "outputs": [
    {
     "name": "stdout",
     "output_type": "stream",
     "text": [
      "ones = [1. 1. 1.]\n"
     ]
    }
   ],
   "source": [
    "print(f\"ones = {str(ones([3]))}\")"
   ]
  },
  {
   "cell_type": "code",
   "execution_count": 16,
   "metadata": {},
   "outputs": [],
   "source": [
    "X_train_orig, Y_train_orig, X_test_orig, Y_test_orig, classes = tf_utils.load_dataset()"
   ]
  },
  {
   "cell_type": "code",
   "execution_count": 17,
   "metadata": {},
   "outputs": [
    {
     "name": "stdout",
     "output_type": "stream",
     "text": [
      "y = 5\n"
     ]
    },
    {
     "data": {
      "image/png": "[encoded data removed]",
      "text/plain": [
       "<Figure size 432x288 with 1 Axes>"
      ]
     },
     "metadata": {
      "needs_background": "light"
     },
     "output_type": "display_data"
    }
   ],
   "source": [
    "index = 3\n",
    "plt.imshow(X_train_orig[index])\n",
    "print(f\"y = {str(np.squeeze(Y_train_orig[:, index]))}\")"
   ]
  },
  {
   "cell_type": "code",
   "execution_count": 18,
   "metadata": {},
   "outputs": [
    {
     "name": "stdout",
     "output_type": "stream",
     "text": [
      "number of training examples = 1080\n",
      "number of test examples = 120\n",
      "X_train shape: (12288, 1080)\n",
      "Y_train shape: (6, 1080)\n",
      "X_test shape: (12288, 120)\n",
      "Y_test shape: (6, 120)\n"
     ]
    }
   ],
   "source": [
    "X_train_flatten = X_train_orig.reshape(X_train_orig.shape[0], -1).T\n",
    "X_test_flatten = X_test_orig.reshape(X_test_orig.shape[0], -1).T\n",
    "\n",
    "X_train = X_train_flatten / 255.\n",
    "X_test = X_test_flatten / 255.\n",
    "\n",
    "Y_train = tf_utils.convert_to_one_hot(Y_train_orig, 6)\n",
    "Y_test = tf_utils.convert_to_one_hot(Y_test_orig, 6)\n",
    "\n",
    "print(f\"number of training examples = {str(X_train.shape[1])}\")\n",
    "print(f\"number of test examples = {str(X_test.shape[1])}\")\n",
    "print(f\"X_train shape: {str(X_train.shape)}\")\n",
    "print(f\"Y_train shape: {str(Y_train.shape)}\")\n",
    "print(f\"X_test shape: {str(X_test.shape)}\")\n",
    "print(f\"Y_test shape: {str(Y_test.shape)}\")"
   ]
  },
  {
   "cell_type": "code",
   "execution_count": 19,
   "metadata": {},
   "outputs": [],
   "source": [
    "def create_placeholders(n_x, n_y):\n",
    "    X = tf.compat.v1.placeholder(tf.float32, shape=(n_x,None), name=\"X\")\n",
    "    Y = tf.compat.v1.placeholder(tf.float32, shape=(n_y,None), name=\"Y\")\n",
    "\n",
    "    return X, Y"
   ]
  },
  {
   "cell_type": "code",
   "execution_count": 20,
   "metadata": {},
   "outputs": [
    {
     "name": "stdout",
     "output_type": "stream",
     "text": [
      "X = Tensor(\"X_5:0\", shape=(12288, None), dtype=float32)\n",
      "Y = Tensor(\"Y_1:0\", shape=(6, None), dtype=float32)\n"
     ]
    }
   ],
   "source": [
    "X, Y = create_placeholders(12288, 6)\n",
    "print(f\"X = {str(X)}\")\n",
    "print(f\"Y = {str(Y)}\")"
   ]
  },
  {
   "cell_type": "code",
   "execution_count": 21,
   "metadata": {},
   "outputs": [],
   "source": [
    "def initialize_parameters():\n",
    "    tf.random.set_seed(1)\n",
    "\n",
    "    W1 = tf.compat.v1.get_variable(\"W1\", [25, 12288], initializer=tf.initializers.GlorotUniform(seed=1))\n",
    "    b1 = tf.compat.v1.get_variable(\"b1\", [25, 1], initializer=tf.zeros_initializer())\n",
    "    W2 = tf.compat.v1.get_variable(\"W2\", [12,25], initializer=tf.initializers.GlorotUniform(seed=1))\n",
    "    b2 = tf.compat.v1.get_variable(\"b2\", [12,1], initializer=tf.zeros_initializer())\n",
    "    W3 = tf.compat.v1.get_variable(\"W3\", [6,12], initializer=tf.initializers.GlorotUniform(seed=1))\n",
    "    b3 = tf.compat.v1.get_variable(\"b3\", [6,1], initializer=tf.zeros_initializer())\n",
    "\n",
    "    parameters = {\"W1\": W1,\n",
    "                  \"b1\": b1,\n",
    "                  \"W2\": W2,\n",
    "                  \"b2\": b2,\n",
    "                  \"W3\": W3,\n",
    "                  \"b3\": b3}\n",
    "    \n",
    "    return parameters"
   ]
  },
  {
   "cell_type": "code",
   "execution_count": 22,
   "metadata": {},
   "outputs": [
    {
     "name": "stdout",
     "output_type": "stream",
     "text": [
      "W1 = <tf.Variable 'W1:0' shape=(25, 12288) dtype=float32>\n",
      "b1 = <tf.Variable 'b1:0' shape=(25, 1) dtype=float32>\n",
      "W2 = <tf.Variable 'W2:0' shape=(12, 25) dtype=float32>\n",
      "b2 = <tf.Variable 'b2:0' shape=(12, 1) dtype=float32>\n"
     ]
    }
   ],
   "source": [
    "tf.compat.v1.reset_default_graph()\n",
    "tf.compat.v1.disable_eager_execution()\n",
    "session = tf.compat.v1.Session()\n",
    "parameters = initialize_parameters()\n",
    "print(\"W1 = \" + str(parameters['W1']))\n",
    "print(\"b1 = \" + str(parameters['b1']))\n",
    "print(\"W2 = \" + str(parameters['W2']))\n",
    "print(\"b2 = \" + str(parameters['b2']))"
   ]
  },
  {
   "cell_type": "code",
   "execution_count": 23,
   "metadata": {},
   "outputs": [],
   "source": [
    "def forward_propagation(X, parameters):\n",
    "    W1 = parameters['W1']\n",
    "    b1 = parameters['b1']\n",
    "    W2 = parameters['W2']\n",
    "    b2 = parameters['b2']\n",
    "    W3 = parameters['W3']\n",
    "    b3 = parameters['b3']\n",
    "\n",
    "    Z1 = tf.matmul(W1, X) + b1\n",
    "    A1 = tf.nn.relu(Z1)\n",
    "    Z2 = tf.matmul(W2, A1) + b2\n",
    "    A2 = tf.nn.relu(Z2)\n",
    "    Z3 = tf.matmul(W3, A2) + b3\n",
    "\n",
    "    return Z3"
   ]
  },
  {
   "cell_type": "code",
   "execution_count": 24,
   "metadata": {},
   "outputs": [
    {
     "name": "stdout",
     "output_type": "stream",
     "text": [
      "Z3 = Tensor(\"add_2:0\", shape=(6, None), dtype=float32)\n"
     ]
    }
   ],
   "source": [
    "tf.compat.v1.reset_default_graph()\n",
    "tf.compat.v1.disable_eager_execution()\n",
    "session = tf.compat.v1.Session()\n",
    "X, Y = create_placeholders(12288, 6)\n",
    "parameters = initialize_parameters()\n",
    "Z3 = forward_propagation(X, parameters)\n",
    "print(f\"Z3 = {Z3}\")"
   ]
  },
  {
   "cell_type": "code",
   "execution_count": 25,
   "metadata": {},
   "outputs": [],
   "source": [
    "def compute_cost(Z3, Y):\n",
    "    logits = tf.transpose(Z3)\n",
    "    labels = tf.transpose(Y)\n",
    "\n",
    "    cost = tf.reduce_mean(tf.nn.softmax_cross_entropy_with_logits(logits=logits, labels=labels))\n",
    "\n",
    "    return cost"
   ]
  },
  {
   "cell_type": "code",
   "execution_count": 26,
   "metadata": {},
   "outputs": [
    {
     "name": "stdout",
     "output_type": "stream",
     "text": [
      "cost = Tensor(\"Mean:0\", shape=(), dtype=float32)\n"
     ]
    }
   ],
   "source": [
    "tf.compat.v1.reset_default_graph()\n",
    "tf.compat.v1.disable_eager_execution()\n",
    "session = tf.compat.v1.Session()\n",
    "X, Y = create_placeholders(12288, 6)\n",
    "parameters = initialize_parameters()\n",
    "Z3 = forward_propagation(X, parameters)\n",
    "cost = compute_cost(Z3, Y)\n",
    "print(f\"cost = {str(cost)}\")"
   ]
  },
  {
   "cell_type": "code",
   "execution_count": 27,
   "metadata": {},
   "outputs": [],
   "source": [
    "def model(X_train, Y_train, X_test, Y_test, learning_rate=0.0001,\n",
    "        num_epochs=1500, minibatch_size=32, print_cost=True):\n",
    "    \n",
    "\n",
    "    tf.compat.v1.reset_default_graph()\n",
    "    tf.random.set_seed(1)\n",
    "    seed = 3\n",
    "    (n_x, m) = X_train.shape\n",
    "    n_y = Y_train.shape[0]\n",
    "    costs = []\n",
    "\n",
    "    X, Y = create_placeholders(n_x, n_y)\n",
    "\n",
    "    parameters = initialize_parameters()\n",
    "    Z3 = forward_propagation(X, parameters)\n",
    "    cost = compute_cost(Z3, Y)\n",
    "    optimizer = tf.compat.v1.train.AdamOptimizer(learning_rate).minimize(cost)\n",
    "    init = tf.compat.v1.global_variables_initializer()\n",
    "    with tf.compat.v1.Session () as session:\n",
    "        session.run(init)\n",
    "        for epoch in range(num_epochs):\n",
    "            epoch_cost = 0.\n",
    "            num_minibatches = int(m / minibatch_size)\n",
    "            seed += 1\n",
    "            minibatches = tf_utils.random_mini_batches(X_train, Y_train, minibatch_size, seed)\n",
    "\n",
    "            for minibatch in minibatches:\n",
    "                (minibatch_X, minibatch_Y) = minibatch\n",
    "                _ , minibatch_cost = session.run([optimizer, cost], feed_dict={X: minibatch_X, Y: minibatch_Y})\n",
    "                epoch_cost += minibatch_cost / num_minibatches\n",
    "\n",
    "                if epoch % 5 == 0:\n",
    "                    costs.append(epoch_cost)\n",
    "                    if print_cost == True and epoch % 100 == 0:\n",
    "                        print (\"Cost after epoch %i: %f\" % (epoch, epoch_cost))\n",
    "                    \n",
    "        plt.plot(np.squeeze(costs))\n",
    "        plt.ylabel('cost')\n",
    "        plt.xlabel('iterations (per tens)')\n",
    "        plt.title(f\"Learning rate ={str(learning_rate)}\")\n",
    "        plt.show()\n",
    "\n",
    "        parameters = session.run(parameters)\n",
    "        print (\"Parameters have been trained!\")\n",
    "\n",
    "        correct_prediction = tf.equal(tf.argmax(Z3), tf.argmax(Y))\n",
    "\n",
    "        accuracy = tf.reduce_mean(tf.cast(correct_prediction, \"float\"))\n",
    "\n",
    "        print (\"Train Accuracy:\", accuracy.eval({X: X_train, Y: Y_train}))\n",
    "        print (\"Test Accuracy:\", accuracy.eval({X: X_test, Y: Y_test}))\n",
    "\n",
    "        return parameters                "
   ]
  },
  {
   "cell_type": "code",
   "execution_count": 28,
   "metadata": {},
   "outputs": [
    {
     "name": "stdout",
     "output_type": "stream",
     "text": [
      "Cost after epoch 0: 0.053738\n",
      "Cost after epoch 0: 0.107454\n",
      "Cost after epoch 0: 0.161887\n",
      "Cost after epoch 0: 0.221963\n",
      "Cost after epoch 0: 0.279912\n",
      "Cost after epoch 0: 0.332872\n",
      "Cost after epoch 0: 0.387287\n",
      "Cost after epoch 0: 0.442010\n",
      "Cost after epoch 0: 0.497504\n",
      "Cost after epoch 0: 0.552424\n",
      "Cost after epoch 0: 0.606178\n",
      "Cost after epoch 0: 0.660954\n",
      "Cost after epoch 0: 0.718143\n",
      "Cost after epoch 0: 0.774172\n",
      "Cost after epoch 0: 0.830786\n",
      "Cost after epoch 0: 0.884943\n",
      "Cost after epoch 0: 0.939548\n",
      "Cost after epoch 0: 0.994305\n",
      "Cost after epoch 0: 1.048592\n",
      "Cost after epoch 0: 1.104795\n",
      "Cost after epoch 0: 1.159782\n",
      "Cost after epoch 0: 1.214736\n",
      "Cost after epoch 0: 1.268960\n",
      "Cost after epoch 0: 1.324578\n",
      "Cost after epoch 0: 1.377056\n",
      "Cost after epoch 0: 1.431603\n",
      "Cost after epoch 0: 1.487895\n",
      "Cost after epoch 0: 1.543973\n",
      "Cost after epoch 0: 1.598473\n",
      "Cost after epoch 0: 1.652534\n",
      "Cost after epoch 0: 1.705833\n",
      "Cost after epoch 0: 1.759143\n",
      "Cost after epoch 0: 1.812944\n",
      "Cost after epoch 0: 1.866523\n",
      "Cost after epoch 100: 0.026246\n",
      "Cost after epoch 100: 0.050849\n",
      "Cost after epoch 100: 0.071234\n",
      "Cost after epoch 100: 0.092186\n",
      "Cost after epoch 100: 0.112173\n",
      "Cost after epoch 100: 0.136476\n",
      "Cost after epoch 100: 0.169998\n",
      "Cost after epoch 100: 0.195263\n",
      "Cost after epoch 100: 0.216831\n",
      "Cost after epoch 100: 0.237398\n",
      "Cost after epoch 100: 0.261229\n",
      "Cost after epoch 100: 0.282455\n",
      "Cost after epoch 100: 0.313933\n",
      "Cost after epoch 100: 0.337928\n",
      "Cost after epoch 100: 0.357854\n",
      "Cost after epoch 100: 0.381431\n",
      "Cost after epoch 100: 0.409360\n",
      "Cost after epoch 100: 0.444565\n",
      "Cost after epoch 100: 0.463377\n",
      "Cost after epoch 100: 0.482499\n",
      "Cost after epoch 100: 0.515801\n",
      "Cost after epoch 100: 0.538944\n",
      "Cost after epoch 100: 0.571455\n",
      "Cost after epoch 100: 0.591733\n",
      "Cost after epoch 100: 0.613158\n",
      "Cost after epoch 100: 0.634336\n",
      "Cost after epoch 100: 0.658182\n",
      "Cost after epoch 100: 0.678976\n",
      "Cost after epoch 100: 0.705087\n",
      "Cost after epoch 100: 0.724904\n",
      "Cost after epoch 100: 0.742634\n",
      "Cost after epoch 100: 0.766073\n",
      "Cost after epoch 100: 0.791191\n",
      "Cost after epoch 100: 0.812711\n",
      "Cost after epoch 200: 0.013322\n",
      "Cost after epoch 200: 0.027317\n",
      "Cost after epoch 200: 0.042458\n",
      "Cost after epoch 200: 0.057922\n",
      "Cost after epoch 200: 0.072367\n",
      "Cost after epoch 200: 0.094721\n",
      "Cost after epoch 200: 0.104503\n",
      "Cost after epoch 200: 0.120977\n",
      "Cost after epoch 200: 0.133883\n",
      "Cost after epoch 200: 0.153269\n",
      "Cost after epoch 200: 0.165708\n",
      "Cost after epoch 200: 0.185060\n",
      "Cost after epoch 200: 0.198402\n",
      "Cost after epoch 200: 0.214196\n",
      "Cost after epoch 200: 0.231033\n",
      "Cost after epoch 200: 0.251278\n",
      "Cost after epoch 200: 0.273455\n",
      "Cost after epoch 200: 0.286997\n",
      "Cost after epoch 200: 0.302083\n",
      "Cost after epoch 200: 0.333839\n",
      "Cost after epoch 200: 0.349840\n",
      "Cost after epoch 200: 0.366161\n",
      "Cost after epoch 200: 0.378652\n",
      "Cost after epoch 200: 0.396344\n",
      "Cost after epoch 200: 0.417745\n",
      "Cost after epoch 200: 0.435924\n",
      "Cost after epoch 200: 0.452381\n",
      "Cost after epoch 200: 0.468507\n",
      "Cost after epoch 200: 0.481872\n",
      "Cost after epoch 200: 0.496819\n",
      "Cost after epoch 200: 0.518991\n",
      "Cost after epoch 200: 0.533787\n",
      "Cost after epoch 200: 0.554444\n",
      "Cost after epoch 200: 0.571792\n",
      "Cost after epoch 300: 0.019285\n",
      "Cost after epoch 300: 0.031292\n",
      "Cost after epoch 300: 0.046758\n",
      "Cost after epoch 300: 0.057599\n",
      "Cost after epoch 300: 0.069907\n",
      "Cost after epoch 300: 0.082871\n",
      "Cost after epoch 300: 0.094837\n",
      "Cost after epoch 300: 0.105672\n",
      "Cost after epoch 300: 0.116299\n",
      "Cost after epoch 300: 0.128695\n",
      "Cost after epoch 300: 0.137694\n",
      "Cost after epoch 300: 0.147677\n",
      "Cost after epoch 300: 0.162356\n",
      "Cost after epoch 300: 0.177022\n",
      "Cost after epoch 300: 0.186553\n",
      "Cost after epoch 300: 0.198909\n",
      "Cost after epoch 300: 0.207230\n",
      "Cost after epoch 300: 0.219602\n",
      "Cost after epoch 300: 0.227476\n",
      "Cost after epoch 300: 0.243286\n",
      "Cost after epoch 300: 0.253831\n",
      "Cost after epoch 300: 0.269276\n",
      "Cost after epoch 300: 0.276063\n",
      "Cost after epoch 300: 0.287295\n",
      "Cost after epoch 300: 0.299537\n",
      "Cost after epoch 300: 0.305274\n",
      "Cost after epoch 300: 0.317563\n",
      "Cost after epoch 300: 0.331505\n",
      "Cost after epoch 300: 0.339995\n",
      "Cost after epoch 300: 0.349261\n",
      "Cost after epoch 300: 0.363605\n",
      "Cost after epoch 300: 0.379520\n",
      "Cost after epoch 300: 0.389091\n",
      "Cost after epoch 300: 0.396519\n",
      "Cost after epoch 400: 0.006260\n",
      "Cost after epoch 400: 0.015142\n",
      "Cost after epoch 400: 0.023937\n",
      "Cost after epoch 400: 0.034630\n",
      "Cost after epoch 400: 0.041579\n",
      "Cost after epoch 400: 0.047136\n",
      "Cost after epoch 400: 0.050777\n",
      "Cost after epoch 400: 0.059302\n",
      "Cost after epoch 400: 0.065844\n",
      "Cost after epoch 400: 0.073948\n",
      "Cost after epoch 400: 0.082043\n",
      "Cost after epoch 400: 0.094125\n",
      "Cost after epoch 400: 0.102586\n",
      "Cost after epoch 400: 0.112114\n",
      "Cost after epoch 400: 0.118912\n",
      "Cost after epoch 400: 0.126320\n",
      "Cost after epoch 400: 0.139032\n",
      "Cost after epoch 400: 0.148593\n",
      "Cost after epoch 400: 0.156023\n",
      "Cost after epoch 400: 0.163578\n",
      "Cost after epoch 400: 0.172230\n",
      "Cost after epoch 400: 0.181949\n",
      "Cost after epoch 400: 0.188985\n",
      "Cost after epoch 400: 0.197664\n",
      "Cost after epoch 400: 0.207898\n",
      "Cost after epoch 400: 0.215435\n",
      "Cost after epoch 400: 0.224318\n",
      "Cost after epoch 400: 0.231157\n",
      "Cost after epoch 400: 0.242240\n",
      "Cost after epoch 400: 0.249118\n",
      "Cost after epoch 400: 0.256387\n",
      "Cost after epoch 400: 0.261011\n",
      "Cost after epoch 400: 0.268414\n",
      "Cost after epoch 400: 0.272928\n",
      "Cost after epoch 500: 0.006577\n",
      "Cost after epoch 500: 0.011388\n",
      "Cost after epoch 500: 0.016168\n",
      "Cost after epoch 500: 0.024275\n",
      "Cost after epoch 500: 0.030836\n",
      "Cost after epoch 500: 0.036065\n",
      "Cost after epoch 500: 0.040182\n",
      "Cost after epoch 500: 0.046771\n",
      "Cost after epoch 500: 0.058213\n",
      "Cost after epoch 500: 0.062088\n",
      "Cost after epoch 500: 0.065522\n",
      "Cost after epoch 500: 0.070375\n",
      "Cost after epoch 500: 0.077039\n",
      "Cost after epoch 500: 0.083546\n",
      "Cost after epoch 500: 0.090908\n",
      "Cost after epoch 500: 0.097080\n",
      "Cost after epoch 500: 0.103692\n",
      "Cost after epoch 500: 0.107112\n",
      "Cost after epoch 500: 0.112496\n",
      "Cost after epoch 500: 0.116991\n",
      "Cost after epoch 500: 0.127712\n",
      "Cost after epoch 500: 0.132595\n",
      "Cost after epoch 500: 0.137242\n",
      "Cost after epoch 500: 0.143356\n",
      "Cost after epoch 500: 0.149415\n",
      "Cost after epoch 500: 0.154264\n",
      "Cost after epoch 500: 0.158838\n",
      "Cost after epoch 500: 0.164511\n",
      "Cost after epoch 500: 0.169353\n",
      "Cost after epoch 500: 0.175533\n",
      "Cost after epoch 500: 0.179968\n",
      "Cost after epoch 500: 0.184958\n",
      "Cost after epoch 500: 0.189037\n",
      "Cost after epoch 500: 0.193333\n",
      "Cost after epoch 600: 0.002624\n",
      "Cost after epoch 600: 0.007108\n",
      "Cost after epoch 600: 0.011333\n",
      "Cost after epoch 600: 0.013578\n",
      "Cost after epoch 600: 0.016622\n",
      "Cost after epoch 600: 0.018840\n",
      "Cost after epoch 600: 0.024516\n",
      "Cost after epoch 600: 0.026786\n",
      "Cost after epoch 600: 0.030752\n",
      "Cost after epoch 600: 0.036476\n",
      "Cost after epoch 600: 0.039779\n",
      "Cost after epoch 600: 0.043429\n",
      "Cost after epoch 600: 0.046870\n",
      "Cost after epoch 600: 0.049942\n",
      "Cost after epoch 600: 0.054163\n",
      "Cost after epoch 600: 0.058091\n",
      "Cost after epoch 600: 0.060342\n",
      "Cost after epoch 600: 0.063758\n",
      "Cost after epoch 600: 0.067760\n",
      "Cost after epoch 600: 0.071385\n",
      "Cost after epoch 600: 0.075167\n",
      "Cost after epoch 600: 0.078464\n",
      "Cost after epoch 600: 0.085202\n",
      "Cost after epoch 600: 0.090128\n",
      "Cost after epoch 600: 0.092740\n",
      "Cost after epoch 600: 0.097102\n",
      "Cost after epoch 600: 0.099785\n",
      "Cost after epoch 600: 0.102092\n",
      "Cost after epoch 600: 0.105546\n",
      "Cost after epoch 600: 0.108375\n",
      "Cost after epoch 600: 0.112620\n",
      "Cost after epoch 600: 0.116345\n",
      "Cost after epoch 600: 0.119954\n",
      "Cost after epoch 600: 0.125910\n",
      "Cost after epoch 700: 0.001497\n",
      "Cost after epoch 700: 0.005515\n",
      "Cost after epoch 700: 0.007898\n",
      "Cost after epoch 700: 0.014368\n",
      "Cost after epoch 700: 0.018596\n",
      "Cost after epoch 700: 0.020451\n",
      "Cost after epoch 700: 0.022717\n",
      "Cost after epoch 700: 0.024436\n",
      "Cost after epoch 700: 0.027492\n",
      "Cost after epoch 700: 0.029191\n",
      "Cost after epoch 700: 0.032275\n",
      "Cost after epoch 700: 0.034075\n",
      "Cost after epoch 700: 0.036112\n",
      "Cost after epoch 700: 0.038452\n",
      "Cost after epoch 700: 0.040834\n",
      "Cost after epoch 700: 0.042646\n",
      "Cost after epoch 700: 0.044883\n",
      "Cost after epoch 700: 0.046638\n",
      "Cost after epoch 700: 0.049031\n",
      "Cost after epoch 700: 0.052532\n",
      "Cost after epoch 700: 0.054737\n",
      "Cost after epoch 700: 0.055953\n",
      "Cost after epoch 700: 0.057243\n",
      "Cost after epoch 700: 0.058646\n",
      "Cost after epoch 700: 0.061264\n",
      "Cost after epoch 700: 0.063617\n",
      "Cost after epoch 700: 0.065256\n",
      "Cost after epoch 700: 0.068979\n",
      "Cost after epoch 700: 0.070467\n",
      "Cost after epoch 700: 0.072916\n",
      "Cost after epoch 700: 0.075094\n",
      "Cost after epoch 700: 0.078203\n",
      "Cost after epoch 700: 0.081143\n",
      "Cost after epoch 700: 0.083817\n",
      "Cost after epoch 800: 0.001407\n",
      "Cost after epoch 800: 0.002270\n",
      "Cost after epoch 800: 0.003936\n",
      "Cost after epoch 800: 0.004983\n",
      "Cost after epoch 800: 0.006434\n",
      "Cost after epoch 800: 0.009416\n",
      "Cost after epoch 800: 0.011783\n",
      "Cost after epoch 800: 0.013402\n",
      "Cost after epoch 800: 0.014631\n",
      "Cost after epoch 800: 0.016650\n",
      "Cost after epoch 800: 0.018561\n",
      "Cost after epoch 800: 0.019866\n",
      "Cost after epoch 800: 0.022011\n",
      "Cost after epoch 800: 0.022855\n",
      "Cost after epoch 800: 0.023753\n",
      "Cost after epoch 800: 0.024426\n",
      "Cost after epoch 800: 0.025575\n",
      "Cost after epoch 800: 0.028174\n",
      "Cost after epoch 800: 0.030380\n",
      "Cost after epoch 800: 0.031537\n",
      "Cost after epoch 800: 0.033290\n",
      "Cost after epoch 800: 0.034872\n",
      "Cost after epoch 800: 0.036869\n",
      "Cost after epoch 800: 0.041145\n",
      "Cost after epoch 800: 0.042707\n",
      "Cost after epoch 800: 0.044250\n",
      "Cost after epoch 800: 0.046047\n",
      "Cost after epoch 800: 0.047470\n",
      "Cost after epoch 800: 0.049064\n",
      "Cost after epoch 800: 0.050605\n",
      "Cost after epoch 800: 0.051497\n",
      "Cost after epoch 800: 0.052944\n",
      "Cost after epoch 800: 0.054421\n",
      "Cost after epoch 800: 0.055906\n",
      "Cost after epoch 900: 0.000826\n",
      "Cost after epoch 900: 0.001575\n",
      "Cost after epoch 900: 0.002721\n",
      "Cost after epoch 900: 0.003374\n",
      "Cost after epoch 900: 0.004201\n",
      "Cost after epoch 900: 0.004929\n",
      "Cost after epoch 900: 0.005842\n",
      "Cost after epoch 900: 0.007087\n",
      "Cost after epoch 900: 0.008221\n",
      "Cost after epoch 900: 0.009528\n",
      "Cost after epoch 900: 0.013220\n",
      "Cost after epoch 900: 0.014038\n",
      "Cost after epoch 900: 0.014556\n",
      "Cost after epoch 900: 0.015210\n",
      "Cost after epoch 900: 0.015947\n",
      "Cost after epoch 900: 0.016638\n",
      "Cost after epoch 900: 0.017628\n",
      "Cost after epoch 900: 0.018572\n",
      "Cost after epoch 900: 0.019778\n",
      "Cost after epoch 900: 0.020220\n",
      "Cost after epoch 900: 0.020933\n",
      "Cost after epoch 900: 0.021586\n",
      "Cost after epoch 900: 0.022313\n",
      "Cost after epoch 900: 0.023272\n",
      "Cost after epoch 900: 0.024036\n",
      "Cost after epoch 900: 0.024886\n",
      "Cost after epoch 900: 0.025816\n",
      "Cost after epoch 900: 0.026475\n",
      "Cost after epoch 900: 0.027437\n",
      "Cost after epoch 900: 0.028341\n",
      "Cost after epoch 900: 0.029116\n",
      "Cost after epoch 900: 0.029805\n",
      "Cost after epoch 900: 0.030915\n",
      "Cost after epoch 900: 0.031871\n",
      "Cost after epoch 1000: 0.000666\n",
      "Cost after epoch 1000: 0.001349\n",
      "Cost after epoch 1000: 0.001776\n",
      "Cost after epoch 1000: 0.002183\n",
      "Cost after epoch 1000: 0.002568\n",
      "Cost after epoch 1000: 0.002957\n",
      "Cost after epoch 1000: 0.003712\n",
      "Cost after epoch 1000: 0.004216\n",
      "Cost after epoch 1000: 0.004803\n",
      "Cost after epoch 1000: 0.005159\n",
      "Cost after epoch 1000: 0.005488\n",
      "Cost after epoch 1000: 0.006073\n",
      "Cost after epoch 1000: 0.006750\n",
      "Cost after epoch 1000: 0.007108\n",
      "Cost after epoch 1000: 0.007938\n",
      "Cost after epoch 1000: 0.008349\n",
      "Cost after epoch 1000: 0.008874\n",
      "Cost after epoch 1000: 0.011114\n",
      "Cost after epoch 1000: 0.011348\n",
      "Cost after epoch 1000: 0.012344\n",
      "Cost after epoch 1000: 0.013335\n",
      "Cost after epoch 1000: 0.014153\n",
      "Cost after epoch 1000: 0.014923\n",
      "Cost after epoch 1000: 0.015513\n",
      "Cost after epoch 1000: 0.015870\n",
      "Cost after epoch 1000: 0.017541\n",
      "Cost after epoch 1000: 0.017893\n",
      "Cost after epoch 1000: 0.018263\n",
      "Cost after epoch 1000: 0.019012\n",
      "Cost after epoch 1000: 0.019958\n",
      "Cost after epoch 1000: 0.020477\n",
      "Cost after epoch 1000: 0.020866\n",
      "Cost after epoch 1000: 0.021429\n",
      "Cost after epoch 1000: 0.022090\n",
      "Cost after epoch 1100: 0.000359\n",
      "Cost after epoch 1100: 0.000710\n",
      "Cost after epoch 1100: 0.000920\n",
      "Cost after epoch 1100: 0.001240\n",
      "Cost after epoch 1100: 0.001677\n",
      "Cost after epoch 1100: 0.002055\n",
      "Cost after epoch 1100: 0.002393\n",
      "Cost after epoch 1100: 0.002927\n",
      "Cost after epoch 1100: 0.003308\n",
      "Cost after epoch 1100: 0.003481\n",
      "Cost after epoch 1100: 0.003843\n",
      "Cost after epoch 1100: 0.004363\n",
      "Cost after epoch 1100: 0.004597\n",
      "Cost after epoch 1100: 0.004820\n",
      "Cost after epoch 1100: 0.005181\n",
      "Cost after epoch 1100: 0.005570\n",
      "Cost after epoch 1100: 0.005822\n",
      "Cost after epoch 1100: 0.006176\n",
      "Cost after epoch 1100: 0.006387\n",
      "Cost after epoch 1100: 0.006649\n",
      "Cost after epoch 1100: 0.006987\n",
      "Cost after epoch 1100: 0.007381\n",
      "Cost after epoch 1100: 0.007624\n",
      "Cost after epoch 1100: 0.008051\n",
      "Cost after epoch 1100: 0.008353\n",
      "Cost after epoch 1100: 0.008648\n",
      "Cost after epoch 1100: 0.009016\n",
      "Cost after epoch 1100: 0.009341\n",
      "Cost after epoch 1100: 0.009690\n",
      "Cost after epoch 1100: 0.010138\n",
      "Cost after epoch 1100: 0.010754\n",
      "Cost after epoch 1100: 0.011068\n",
      "Cost after epoch 1100: 0.011554\n",
      "Cost after epoch 1100: 0.011795\n",
      "Cost after epoch 1200: 0.000280\n",
      "Cost after epoch 1200: 0.000581\n",
      "Cost after epoch 1200: 0.000865\n",
      "Cost after epoch 1200: 0.001137\n",
      "Cost after epoch 1200: 0.001340\n",
      "Cost after epoch 1200: 0.001488\n",
      "Cost after epoch 1200: 0.001772\n",
      "Cost after epoch 1200: 0.002052\n",
      "Cost after epoch 1200: 0.002311\n",
      "Cost after epoch 1200: 0.002495\n",
      "Cost after epoch 1200: 0.002632\n",
      "Cost after epoch 1200: 0.002892\n",
      "Cost after epoch 1200: 0.003048\n",
      "Cost after epoch 1200: 0.003241\n",
      "Cost after epoch 1200: 0.003443\n",
      "Cost after epoch 1200: 0.003845\n",
      "Cost after epoch 1200: 0.004049\n",
      "Cost after epoch 1200: 0.004351\n",
      "Cost after epoch 1200: 0.004772\n",
      "Cost after epoch 1200: 0.005102\n",
      "Cost after epoch 1200: 0.005417\n",
      "Cost after epoch 1200: 0.005637\n",
      "Cost after epoch 1200: 0.006039\n",
      "Cost after epoch 1200: 0.006299\n",
      "Cost after epoch 1200: 0.006568\n",
      "Cost after epoch 1200: 0.006818\n",
      "Cost after epoch 1200: 0.006981\n",
      "Cost after epoch 1200: 0.007198\n",
      "Cost after epoch 1200: 0.007603\n",
      "Cost after epoch 1200: 0.007914\n",
      "Cost after epoch 1200: 0.008107\n",
      "Cost after epoch 1200: 0.008237\n",
      "Cost after epoch 1200: 0.008366\n",
      "Cost after epoch 1200: 0.008768\n",
      "Cost after epoch 1300: 0.000144\n",
      "Cost after epoch 1300: 0.000247\n",
      "Cost after epoch 1300: 0.000358\n",
      "Cost after epoch 1300: 0.000427\n",
      "Cost after epoch 1300: 0.000547\n",
      "Cost after epoch 1300: 0.000694\n",
      "Cost after epoch 1300: 0.000932\n",
      "Cost after epoch 1300: 0.001086\n",
      "Cost after epoch 1300: 0.001242\n",
      "Cost after epoch 1300: 0.001354\n",
      "Cost after epoch 1300: 0.001471\n",
      "Cost after epoch 1300: 0.001579\n",
      "Cost after epoch 1300: 0.001775\n",
      "Cost after epoch 1300: 0.001973\n",
      "Cost after epoch 1300: 0.002193\n",
      "Cost after epoch 1300: 0.002334\n",
      "Cost after epoch 1300: 0.002534\n",
      "Cost after epoch 1300: 0.002743\n",
      "Cost after epoch 1300: 0.002861\n",
      "Cost after epoch 1300: 0.003023\n",
      "Cost after epoch 1300: 0.003173\n",
      "Cost after epoch 1300: 0.003533\n",
      "Cost after epoch 1300: 0.003645\n",
      "Cost after epoch 1300: 0.003843\n",
      "Cost after epoch 1300: 0.004021\n",
      "Cost after epoch 1300: 0.004192\n",
      "Cost after epoch 1300: 0.004427\n",
      "Cost after epoch 1300: 0.004612\n",
      "Cost after epoch 1300: 0.004801\n",
      "Cost after epoch 1300: 0.004944\n",
      "Cost after epoch 1300: 0.005038\n",
      "Cost after epoch 1300: 0.005435\n",
      "Cost after epoch 1300: 0.005593\n",
      "Cost after epoch 1300: 0.005705\n",
      "Cost after epoch 1400: 0.000065\n",
      "Cost after epoch 1400: 0.000170\n",
      "Cost after epoch 1400: 0.000240\n",
      "Cost after epoch 1400: 0.000341\n",
      "Cost after epoch 1400: 0.000427\n",
      "Cost after epoch 1400: 0.000512\n",
      "Cost after epoch 1400: 0.000575\n",
      "Cost after epoch 1400: 0.000669\n",
      "Cost after epoch 1400: 0.000773\n",
      "Cost after epoch 1400: 0.000847\n",
      "Cost after epoch 1400: 0.000915\n",
      "Cost after epoch 1400: 0.001017\n",
      "Cost after epoch 1400: 0.001095\n",
      "Cost after epoch 1400: 0.001234\n",
      "Cost after epoch 1400: 0.001331\n",
      "Cost after epoch 1400: 0.001455\n",
      "Cost after epoch 1400: 0.001534\n",
      "Cost after epoch 1400: 0.001670\n",
      "Cost after epoch 1400: 0.001763\n",
      "Cost after epoch 1400: 0.001847\n",
      "Cost after epoch 1400: 0.001929\n",
      "Cost after epoch 1400: 0.002041\n",
      "Cost after epoch 1400: 0.002177\n",
      "Cost after epoch 1400: 0.002261\n",
      "Cost after epoch 1400: 0.002323\n",
      "Cost after epoch 1400: 0.002446\n",
      "Cost after epoch 1400: 0.002525\n",
      "Cost after epoch 1400: 0.002588\n",
      "Cost after epoch 1400: 0.002711\n",
      "Cost after epoch 1400: 0.002800\n",
      "Cost after epoch 1400: 0.002857\n",
      "Cost after epoch 1400: 0.002921\n",
      "Cost after epoch 1400: 0.003012\n",
      "Cost after epoch 1400: 0.003175\n"
     ]
    },
    {
     "data": {
      "image/png": "[encoded data removed]",
      "text/plain": [
       "<Figure size 432x288 with 1 Axes>"
      ]
     },
     "metadata": {
      "needs_background": "light"
     },
     "output_type": "display_data"
    },
    {
     "name": "stdout",
     "output_type": "stream",
     "text": [
      "Parameters have been trained!\n",
      "Train Accuracy: 1.0\n",
      "Test Accuracy: 0.85833335\n"
     ]
    }
   ],
   "source": [
    "parameters = model(X_train, Y_train, X_test, Y_test)"
   ]
  }
 ],
 "metadata": {
  "kernelspec": {
   "display_name": "Python 3.7.8rc1 64-bit",
   "language": "python",
   "name": "python3"
  },
  "language_info": {
   "codemirror_mode": {
    "name": "ipython",
    "version": 3
   },
   "file_extension": ".py",
   "mimetype": "text/x-python",
   "name": "python",
   "nbconvert_exporter": "python",
   "pygments_lexer": "ipython3",
   "version": "3.7.8rc1"
  },
  "orig_nbformat": 4,
  "vscode": {
   "interpreter": {
    "hash": "f5ff168696553f3e2cb115c273c46eeb315c32b0d0536992c4bad2740a7f9469"
   }
  }
 },
 "nbformat": 4,
 "nbformat_minor": 2
}
